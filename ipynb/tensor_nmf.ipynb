{
 "cells": [
  {
   "cell_type": "code",
   "execution_count": 1,
   "metadata": {},
   "outputs": [],
   "source": [
    "import numpy as np\n",
    "import matplotlib.pyplot as plt\n",
    "import seaborn as sns\n",
    "import pandas as pd\n",
    "import re"
   ]
  },
  {
   "cell_type": "markdown",
   "metadata": {},
   "source": [
    "# Pre-process mutation data"
   ]
  },
  {
   "cell_type": "markdown",
   "metadata": {},
   "source": [
    "### Import TRACERx "
   ]
  },
  {
   "cell_type": "code",
   "execution_count": 2,
   "metadata": {},
   "outputs": [
    {
     "name": "stdout",
     "output_type": "stream",
     "text": [
      "(659339, 18)\n"
     ]
    },
    {
     "data": {
      "text/html": [
       "<div>\n",
       "<style scoped>\n",
       "    .dataframe tbody tr th:only-of-type {\n",
       "        vertical-align: middle;\n",
       "    }\n",
       "\n",
       "    .dataframe tbody tr th {\n",
       "        vertical-align: top;\n",
       "    }\n",
       "\n",
       "    .dataframe thead th {\n",
       "        text-align: right;\n",
       "    }\n",
       "</style>\n",
       "<table border=\"1\" class=\"dataframe\">\n",
       "  <thead>\n",
       "    <tr style=\"text-align: right;\">\n",
       "      <th></th>\n",
       "      <th>Unnamed: 0</th>\n",
       "      <th>CASE_ID</th>\n",
       "      <th>SAMPLE</th>\n",
       "      <th>CHR</th>\n",
       "      <th>POS</th>\n",
       "      <th>TRI_NT_CONTEXT</th>\n",
       "      <th>histology_3</th>\n",
       "      <th>histology_full</th>\n",
       "      <th>anatomical_site_label</th>\n",
       "      <th>original_anatomical_site_label</th>\n",
       "      <th>sample_type</th>\n",
       "      <th>DEPTH</th>\n",
       "      <th>COPY_NUMBER_A</th>\n",
       "      <th>COPY_NUMBER_B</th>\n",
       "      <th>ACF</th>\n",
       "      <th>PLOIDY</th>\n",
       "      <th>REF</th>\n",
       "      <th>VAR</th>\n",
       "    </tr>\n",
       "  </thead>\n",
       "  <tbody>\n",
       "    <tr>\n",
       "      <th>0</th>\n",
       "      <td>0</td>\n",
       "      <td>CRUK0719</td>\n",
       "      <td>CRUK0719_BR_T1.R1</td>\n",
       "      <td>9</td>\n",
       "      <td>16434926</td>\n",
       "      <td>TCGA</td>\n",
       "      <td>Other</td>\n",
       "      <td>Large cell carcinoma</td>\n",
       "      <td>metachronousMet_BR_T1</td>\n",
       "      <td>metachronousMet_BR_T1.R1</td>\n",
       "      <td>metastasis</td>\n",
       "      <td>913</td>\n",
       "      <td>8</td>\n",
       "      <td>0</td>\n",
       "      <td>0.24</td>\n",
       "      <td>4.05</td>\n",
       "      <td>TCA</td>\n",
       "      <td>G</td>\n",
       "    </tr>\n",
       "    <tr>\n",
       "      <th>1</th>\n",
       "      <td>1</td>\n",
       "      <td>CRUK0719</td>\n",
       "      <td>CRUK0719_BR_T1.R2</td>\n",
       "      <td>9</td>\n",
       "      <td>16434926</td>\n",
       "      <td>TCGA</td>\n",
       "      <td>Other</td>\n",
       "      <td>Large cell carcinoma</td>\n",
       "      <td>metachronousMet_BR_T1</td>\n",
       "      <td>metachronousMet_BR_T1.R2</td>\n",
       "      <td>metastasis</td>\n",
       "      <td>1006</td>\n",
       "      <td>9</td>\n",
       "      <td>0</td>\n",
       "      <td>0.53</td>\n",
       "      <td>4.05</td>\n",
       "      <td>TCA</td>\n",
       "      <td>G</td>\n",
       "    </tr>\n",
       "    <tr>\n",
       "      <th>2</th>\n",
       "      <td>2</td>\n",
       "      <td>CRUK0719</td>\n",
       "      <td>CRUK0719_SU_T1.R1</td>\n",
       "      <td>9</td>\n",
       "      <td>16434926</td>\n",
       "      <td>TCGA</td>\n",
       "      <td>Other</td>\n",
       "      <td>Large cell carcinoma</td>\n",
       "      <td>primary_SU_T1</td>\n",
       "      <td>primary_SU_T1.R1</td>\n",
       "      <td>primary</td>\n",
       "      <td>847</td>\n",
       "      <td>9</td>\n",
       "      <td>0</td>\n",
       "      <td>0.13</td>\n",
       "      <td>5.15</td>\n",
       "      <td>TCA</td>\n",
       "      <td>G</td>\n",
       "    </tr>\n",
       "    <tr>\n",
       "      <th>3</th>\n",
       "      <td>3</td>\n",
       "      <td>CRUK0719</td>\n",
       "      <td>CRUK0719_SU_T1.R2</td>\n",
       "      <td>9</td>\n",
       "      <td>16434926</td>\n",
       "      <td>TCGA</td>\n",
       "      <td>Other</td>\n",
       "      <td>Large cell carcinoma</td>\n",
       "      <td>primary_SU_T1</td>\n",
       "      <td>primary_SU_T1.R2</td>\n",
       "      <td>primary</td>\n",
       "      <td>801</td>\n",
       "      <td>8</td>\n",
       "      <td>0</td>\n",
       "      <td>0.11</td>\n",
       "      <td>4.40</td>\n",
       "      <td>TCA</td>\n",
       "      <td>G</td>\n",
       "    </tr>\n",
       "    <tr>\n",
       "      <th>4</th>\n",
       "      <td>4</td>\n",
       "      <td>CRUK0719</td>\n",
       "      <td>CRUK0719_SU_T1.R3</td>\n",
       "      <td>9</td>\n",
       "      <td>16434926</td>\n",
       "      <td>TCGA</td>\n",
       "      <td>Other</td>\n",
       "      <td>Large cell carcinoma</td>\n",
       "      <td>primary_SU_T1</td>\n",
       "      <td>primary_SU_T1.R3</td>\n",
       "      <td>primary</td>\n",
       "      <td>694</td>\n",
       "      <td>9</td>\n",
       "      <td>0</td>\n",
       "      <td>0.13</td>\n",
       "      <td>4.85</td>\n",
       "      <td>TCA</td>\n",
       "      <td>G</td>\n",
       "    </tr>\n",
       "  </tbody>\n",
       "</table>\n",
       "</div>"
      ],
      "text/plain": [
       "   Unnamed: 0   CASE_ID             SAMPLE  CHR       POS TRI_NT_CONTEXT  \\\n",
       "0           0  CRUK0719  CRUK0719_BR_T1.R1    9  16434926           TCGA   \n",
       "1           1  CRUK0719  CRUK0719_BR_T1.R2    9  16434926           TCGA   \n",
       "2           2  CRUK0719  CRUK0719_SU_T1.R1    9  16434926           TCGA   \n",
       "3           3  CRUK0719  CRUK0719_SU_T1.R2    9  16434926           TCGA   \n",
       "4           4  CRUK0719  CRUK0719_SU_T1.R3    9  16434926           TCGA   \n",
       "\n",
       "  histology_3        histology_full  anatomical_site_label  \\\n",
       "0       Other  Large cell carcinoma  metachronousMet_BR_T1   \n",
       "1       Other  Large cell carcinoma  metachronousMet_BR_T1   \n",
       "2       Other  Large cell carcinoma          primary_SU_T1   \n",
       "3       Other  Large cell carcinoma          primary_SU_T1   \n",
       "4       Other  Large cell carcinoma          primary_SU_T1   \n",
       "\n",
       "  original_anatomical_site_label sample_type  DEPTH  COPY_NUMBER_A  \\\n",
       "0       metachronousMet_BR_T1.R1  metastasis    913              8   \n",
       "1       metachronousMet_BR_T1.R2  metastasis   1006              9   \n",
       "2               primary_SU_T1.R1     primary    847              9   \n",
       "3               primary_SU_T1.R2     primary    801              8   \n",
       "4               primary_SU_T1.R3     primary    694              9   \n",
       "\n",
       "   COPY_NUMBER_B   ACF  PLOIDY  REF VAR  \n",
       "0              0  0.24    4.05  TCA   G  \n",
       "1              0  0.53    4.05  TCA   G  \n",
       "2              0  0.13    5.15  TCA   G  \n",
       "3              0  0.11    4.40  TCA   G  \n",
       "4              0  0.13    4.85  TCA   G  "
      ]
     },
     "execution_count": 2,
     "metadata": {},
     "output_type": "execute_result"
    }
   ],
   "source": [
    "data_dir = \"/data/morrisq/huangf2/project/mutLLM/data/tracerx_snv_96.csv\"\n",
    "df = pd.read_csv(data_dir, index_col=0)\n",
    "print(df.shape)\n",
    "df.head()"
   ]
  },
  {
   "cell_type": "markdown",
   "metadata": {},
   "source": [
    "### Import IMPACT"
   ]
  },
  {
   "cell_type": "code",
   "execution_count": 3,
   "metadata": {},
   "outputs": [
    {
     "name": "stdout",
     "output_type": "stream",
     "text": [
      "(2521939, 14)\n"
     ]
    },
    {
     "data": {
      "text/html": [
       "<div>\n",
       "<style scoped>\n",
       "    .dataframe tbody tr th:only-of-type {\n",
       "        vertical-align: middle;\n",
       "    }\n",
       "\n",
       "    .dataframe tbody tr th {\n",
       "        vertical-align: top;\n",
       "    }\n",
       "\n",
       "    .dataframe thead th {\n",
       "        text-align: right;\n",
       "    }\n",
       "</style>\n",
       "<table border=\"1\" class=\"dataframe\">\n",
       "  <thead>\n",
       "    <tr style=\"text-align: right;\">\n",
       "      <th></th>\n",
       "      <th>id</th>\n",
       "      <th>patient</th>\n",
       "      <th>tumor</th>\n",
       "      <th>chr</th>\n",
       "      <th>pos</th>\n",
       "      <th>mutation</th>\n",
       "      <th>ref</th>\n",
       "      <th>var</th>\n",
       "      <th>bias</th>\n",
       "      <th>strandedness</th>\n",
       "      <th>version</th>\n",
       "      <th>Sample Type</th>\n",
       "      <th>Cancer Type</th>\n",
       "      <th>Cancer Type Detailed</th>\n",
       "    </tr>\n",
       "  </thead>\n",
       "  <tbody>\n",
       "    <tr>\n",
       "      <th>0</th>\n",
       "      <td>P-0000004-T01-IM3</td>\n",
       "      <td>4</td>\n",
       "      <td>1</td>\n",
       "      <td>1</td>\n",
       "      <td>16265904</td>\n",
       "      <td>TTAG</td>\n",
       "      <td>TTG</td>\n",
       "      <td>A</td>\n",
       "      <td>U</td>\n",
       "      <td>1</td>\n",
       "      <td>3</td>\n",
       "      <td>Primary</td>\n",
       "      <td>Breast Cancer</td>\n",
       "      <td>Breast Invasive Ductal Carcinoma</td>\n",
       "    </tr>\n",
       "    <tr>\n",
       "      <th>1</th>\n",
       "      <td>P-0000004-T01-IM3</td>\n",
       "      <td>4</td>\n",
       "      <td>1</td>\n",
       "      <td>1</td>\n",
       "      <td>16265908</td>\n",
       "      <td>ATAG</td>\n",
       "      <td>ATG</td>\n",
       "      <td>A</td>\n",
       "      <td>T</td>\n",
       "      <td>-1</td>\n",
       "      <td>3</td>\n",
       "      <td>Primary</td>\n",
       "      <td>Breast Cancer</td>\n",
       "      <td>Breast Invasive Ductal Carcinoma</td>\n",
       "    </tr>\n",
       "    <tr>\n",
       "      <th>2</th>\n",
       "      <td>P-0000004-T01-IM3</td>\n",
       "      <td>4</td>\n",
       "      <td>1</td>\n",
       "      <td>4</td>\n",
       "      <td>1801219</td>\n",
       "      <td>GCTG</td>\n",
       "      <td>GCG</td>\n",
       "      <td>T</td>\n",
       "      <td>U</td>\n",
       "      <td>1</td>\n",
       "      <td>3</td>\n",
       "      <td>Primary</td>\n",
       "      <td>Breast Cancer</td>\n",
       "      <td>Breast Invasive Ductal Carcinoma</td>\n",
       "    </tr>\n",
       "    <tr>\n",
       "      <th>3</th>\n",
       "      <td>P-0000004-T01-IM3</td>\n",
       "      <td>4</td>\n",
       "      <td>1</td>\n",
       "      <td>4</td>\n",
       "      <td>1801542</td>\n",
       "      <td>CTCA</td>\n",
       "      <td>CTA</td>\n",
       "      <td>C</td>\n",
       "      <td>T</td>\n",
       "      <td>-1</td>\n",
       "      <td>3</td>\n",
       "      <td>Primary</td>\n",
       "      <td>Breast Cancer</td>\n",
       "      <td>Breast Invasive Ductal Carcinoma</td>\n",
       "    </tr>\n",
       "    <tr>\n",
       "      <th>4</th>\n",
       "      <td>P-0000004-T01-IM3</td>\n",
       "      <td>4</td>\n",
       "      <td>1</td>\n",
       "      <td>4</td>\n",
       "      <td>1803704</td>\n",
       "      <td>ATCG</td>\n",
       "      <td>ATG</td>\n",
       "      <td>C</td>\n",
       "      <td>U</td>\n",
       "      <td>1</td>\n",
       "      <td>3</td>\n",
       "      <td>Primary</td>\n",
       "      <td>Breast Cancer</td>\n",
       "      <td>Breast Invasive Ductal Carcinoma</td>\n",
       "    </tr>\n",
       "  </tbody>\n",
       "</table>\n",
       "</div>"
      ],
      "text/plain": [
       "                  id  patient  tumor chr       pos mutation  ref var bias  \\\n",
       "0  P-0000004-T01-IM3        4      1   1  16265904     TTAG  TTG   A    U   \n",
       "1  P-0000004-T01-IM3        4      1   1  16265908     ATAG  ATG   A    T   \n",
       "2  P-0000004-T01-IM3        4      1   4   1801219     GCTG  GCG   T    U   \n",
       "3  P-0000004-T01-IM3        4      1   4   1801542     CTCA  CTA   C    T   \n",
       "4  P-0000004-T01-IM3        4      1   4   1803704     ATCG  ATG   C    U   \n",
       "\n",
       "   strandedness  version Sample Type    Cancer Type  \\\n",
       "0             1        3     Primary  Breast Cancer   \n",
       "1            -1        3     Primary  Breast Cancer   \n",
       "2             1        3     Primary  Breast Cancer   \n",
       "3            -1        3     Primary  Breast Cancer   \n",
       "4             1        3     Primary  Breast Cancer   \n",
       "\n",
       "               Cancer Type Detailed  \n",
       "0  Breast Invasive Ductal Carcinoma  \n",
       "1  Breast Invasive Ductal Carcinoma  \n",
       "2  Breast Invasive Ductal Carcinoma  \n",
       "3  Breast Invasive Ductal Carcinoma  \n",
       "4  Breast Invasive Ductal Carcinoma  "
      ]
     },
     "execution_count": 3,
     "metadata": {},
     "output_type": "execute_result"
    }
   ],
   "source": [
    "impact_dir = '/data/morrisq/huangf2/project/mutLLM/data/impact_snv_augmented.csv'\n",
    "df_impact = pd.read_csv(impact_dir, header=0)\n",
    "print(df_impact.shape)\n",
    "df_impact.head()"
   ]
  },
  {
   "cell_type": "markdown",
   "metadata": {},
   "source": [
    "### Process position bins"
   ]
  },
  {
   "cell_type": "code",
   "execution_count": 4,
   "metadata": {},
   "outputs": [
    {
     "data": {
      "text/plain": [
       "{1: 0,\n",
       " 2: 49,\n",
       " 3: 97,\n",
       " 4: 136,\n",
       " 5: 174,\n",
       " 6: 210,\n",
       " 7: 244,\n",
       " 8: 275,\n",
       " 9: 304,\n",
       " 10: 332,\n",
       " 11: 359,\n",
       " 12: 385,\n",
       " 13: 411,\n",
       " 14: 434,\n",
       " 15: 455,\n",
       " 16: 475,\n",
       " 17: 493,\n",
       " 18: 509,\n",
       " 19: 524,\n",
       " 20: 535,\n",
       " 21: 547,\n",
       " 22: 556,\n",
       " 23: 566}"
      ]
     },
     "execution_count": 4,
     "metadata": {},
     "output_type": "execute_result"
    }
   ],
   "source": [
    "bin_size = 5000000\n",
    "df['CHR'] = df['CHR'].astype(int)\n",
    "df['POS'] = df['POS'] // bin_size\n",
    "chr_bins = round(df.groupby('CHR')['POS'].max()).to_list()\n",
    "\n",
    "bins = {}\n",
    "for i in range(1, 24):\n",
    "    bins[i] = 0\n",
    "for i in range(2, 24):\n",
    "    bins[i] += bins[i-1] + int(chr_bins[i-2])\n",
    "bins"
   ]
  },
  {
   "cell_type": "code",
   "execution_count": 5,
   "metadata": {},
   "outputs": [],
   "source": [
    "df['BIN'] = df['CHR'].map(bins) + df['POS']"
   ]
  },
  {
   "cell_type": "code",
   "execution_count": 6,
   "metadata": {},
   "outputs": [],
   "source": [
    "df_impact['bin'] = df_impact['chr'].map(bins) + df_impact['pos'] // bin_size"
   ]
  },
  {
   "cell_type": "markdown",
   "metadata": {},
   "source": [
    "### Impact NSCLC cohort"
   ]
  },
  {
   "cell_type": "code",
   "execution_count": 7,
   "metadata": {},
   "outputs": [
    {
     "data": {
      "text/plain": [
       "(378334, 15)"
      ]
     },
     "execution_count": 7,
     "metadata": {},
     "output_type": "execute_result"
    }
   ],
   "source": [
    "df_impact_nsclc = df_impact[df_impact['Cancer Type'] == 'Non-Small Cell Lung Cancer']\n",
    "df_impact_nsclc.shape"
   ]
  },
  {
   "cell_type": "markdown",
   "metadata": {},
   "source": [
    "# Construct tensor of mutations"
   ]
  },
  {
   "cell_type": "code",
   "execution_count": 8,
   "metadata": {},
   "outputs": [],
   "source": [
    "sample_name = 'SAMPLE'\n",
    "mutation_name = 'TRI_NT_CONTEXT'\n",
    "bin_name = 'BIN'\n",
    "\n",
    "unique_sample, counts_sample = np.unique(df[sample_name], return_counts=True)\n",
    "unique_mut, counts_mut = np.unique(df[mutation_name], return_counts=True)\n",
    "unique_bin, counts_bin = np.unique(df[bin_name], return_counts=True)\n",
    "\n",
    "# build sample x mutation x bin tensor\n",
    "tensor = np.zeros((len(unique_sample), len(unique_mut), len(unique_bin)))"
   ]
  },
  {
   "cell_type": "code",
   "execution_count": 9,
   "metadata": {},
   "outputs": [
    {
     "name": "stdout",
     "output_type": "stream",
     "text": [
      "0\n",
      "100000\n",
      "200000\n",
      "300000\n",
      "400000\n",
      "500000\n",
      "600000\n"
     ]
    },
    {
     "data": {
      "text/plain": [
       "(690, 96, 543)"
      ]
     },
     "execution_count": 9,
     "metadata": {},
     "output_type": "execute_result"
    }
   ],
   "source": [
    "map_sample = {sample: i for i, sample in enumerate(unique_sample)}\n",
    "map_mut = {mut: i for i, mut in enumerate(unique_mut)}\n",
    "map_bin = {bin: i for i, bin in enumerate(unique_bin)}\n",
    "\n",
    "for i, row in df.iterrows():\n",
    "    tensor[map_sample[row[sample_name]], map_mut[row[mutation_name]], map_bin[row[bin_name]]] += 1\n",
    "    if i % 100000 == 0:\n",
    "        print(i)\n",
    "\n",
    "tensor.shape"
   ]
  },
  {
   "cell_type": "code",
   "execution_count": 10,
   "metadata": {},
   "outputs": [],
   "source": [
    "sample_arr = np.array(list(map_sample.keys()))\n",
    "mut_arr = np.array(list(map_mut.keys()))\n",
    "bin_arr = np.array(list(map_bin.keys()))"
   ]
  },
  {
   "cell_type": "markdown",
   "metadata": {},
   "source": [
    "# Tensor decomposition"
   ]
  },
  {
   "cell_type": "code",
   "execution_count": 11,
   "metadata": {},
   "outputs": [],
   "source": [
    "from sklearn.decomposition import FactorAnalysis, PCA\n",
    "import tensorly as tl\n",
    "from tensorly import unfold as tl_unfold\n",
    "from tensorly.decomposition import parafac, non_negative_parafac, non_negative_parafac_hals"
   ]
  },
  {
   "cell_type": "code",
   "execution_count": 16,
   "metadata": {},
   "outputs": [],
   "source": [
    "def plot_factors(factors, d=3):\n",
    "    rank = factors[0].shape[1]\n",
    "    fig, axes = plt.subplots(rank, d, figsize=(16, int(rank * 2 + 1)))\n",
    "    factors_name = [\"Sample\", \"Tri-nucleotide context\", \"Position\"] \n",
    "    factors_list = [sample_arr, mut_arr, bin_arr]\n",
    "    for ind, (factor, axs) in enumerate(zip(factors[:d], axes.T)):\n",
    "        axs[-1].set_xlabel(factors_name[ind])\n",
    "        for i, (f, ax) in enumerate(zip(factor.T, axs)):\n",
    "            sns.despine(top=True, ax=ax)\n",
    "            x = factors_list[ind]\n",
    "            ax.bar(x, f)\n",
    "            axes[i, 0].set_ylabel(\"Factor \" + str(i+1))\n",
    "    plt.xticks(rotation=90)\n",
    "    fig.tight_layout()"
   ]
  },
  {
   "cell_type": "markdown",
   "metadata": {},
   "source": [
    "nn_parafac_hals\n",
    "- rank=5: 6m14s\n",
    "- rank=10: 15min21s"
   ]
  },
  {
   "cell_type": "code",
   "execution_count": 14,
   "metadata": {},
   "outputs": [],
   "source": [
    "X = tensor.copy()\n",
    "rank = 2\n",
    "factors_nnparafac_hals = non_negative_parafac_hals(X, rank=rank)"
   ]
  },
  {
   "cell_type": "code",
   "execution_count": 17,
   "metadata": {},
   "outputs": [
    {
     "data": {
      "image/png": "[encoded data removed]",
      "text/plain": [
       "<Figure size 1600x500 with 6 Axes>"
      ]
     },
     "metadata": {},
     "output_type": "display_data"
    }
   ],
   "source": [
    "plot_factors(factors_nnparafac_hals.factors)"
   ]
  },
  {
   "cell_type": "markdown",
   "metadata": {},
   "source": [
    "non_negative_parafac"
   ]
  },
  {
   "cell_type": "code",
   "execution_count": 52,
   "metadata": {},
   "outputs": [],
   "source": [
    "X = tensor.copy()\n",
    "rank = 10\n",
    "factors_nnparafac = non_negative_parafac(X, rank=rank)"
   ]
  },
  {
   "cell_type": "code",
   "execution_count": 53,
   "metadata": {},
   "outputs": [
    {
     "data": {
      "image/png": "[encoded data removed]",
      "text/plain": [
       "<Figure size 1152x1512 with 30 Axes>"
      ]
     },
     "metadata": {
      "needs_background": "light"
     },
     "output_type": "display_data"
    }
   ],
   "source": [
    "plot_factors(factors_nnparafac.factors)"
   ]
  },
  {
   "cell_type": "markdown",
   "metadata": {},
   "source": [
    "HALs approximation leads to sparser factor loading across samples and tri-nucleotide contexts. Use default nn_parafac for now"
   ]
  },
  {
   "cell_type": "markdown",
   "metadata": {},
   "source": [
    "# Fit tensor decomposition to IMPACT data"
   ]
  },
  {
   "cell_type": "code",
   "execution_count": null,
   "metadata": {},
   "outputs": [],
   "source": []
  },
  {
   "cell_type": "markdown",
   "metadata": {},
   "source": [
    "# Benchmark with SigProfiler"
   ]
  },
  {
   "cell_type": "markdown",
   "metadata": {},
   "source": [
    "### Fitting COSMIC mutation signatures"
   ]
  },
  {
   "cell_type": "code",
   "execution_count": 2,
   "metadata": {},
   "outputs": [],
   "source": [
    "from SigProfilerAssignment import Analyzer as Analyze"
   ]
  },
  {
   "cell_type": "markdown",
   "metadata": {},
   "source": [
    "#### TRACERx"
   ]
  },
  {
   "cell_type": "code",
   "execution_count": 15,
   "metadata": {},
   "outputs": [],
   "source": [
    "count_matrix = pd.crosstab(df['TRI_NT_CONTEXT'], df['SAMPLE'])"
   ]
  },
  {
   "cell_type": "code",
   "execution_count": 16,
   "metadata": {},
   "outputs": [
    {
     "data": {
      "text/html": [
       "<div>\n",
       "<style scoped>\n",
       "    .dataframe tbody tr th:only-of-type {\n",
       "        vertical-align: middle;\n",
       "    }\n",
       "\n",
       "    .dataframe tbody tr th {\n",
       "        vertical-align: top;\n",
       "    }\n",
       "\n",
       "    .dataframe thead th {\n",
       "        text-align: right;\n",
       "    }\n",
       "</style>\n",
       "<table border=\"1\" class=\"dataframe\">\n",
       "  <thead>\n",
       "    <tr style=\"text-align: right;\">\n",
       "      <th>SAMPLE</th>\n",
       "      <th>CRUK0003_SU_FLN1</th>\n",
       "      <th>CRUK0003_SU_T1.R1</th>\n",
       "      <th>CRUK0003_SU_T1.R2</th>\n",
       "      <th>CRUK0003_SU_T1.R3</th>\n",
       "      <th>CRUK0003_SU_T1.R4</th>\n",
       "      <th>CRUK0003_SU_T1.R6</th>\n",
       "      <th>CRUK0004_BP_LN1</th>\n",
       "      <th>CRUK0004_SU_T1.R1</th>\n",
       "      <th>CRUK0004_SU_T1.R2</th>\n",
       "      <th>CRUK0004_SU_T1.R3</th>\n",
       "      <th>...</th>\n",
       "      <th>CRUK0817_SU_T1.R1</th>\n",
       "      <th>CRUK0817_SU_T1.R2</th>\n",
       "      <th>CRUK0817_SU_T1.R3</th>\n",
       "      <th>CRUK0817_SU_T1.R4</th>\n",
       "      <th>CRUK0817_SU_T1.R5</th>\n",
       "      <th>CRUK0872_SU_FLN1</th>\n",
       "      <th>CRUK0872_SU_T1.R1</th>\n",
       "      <th>CRUK0872_SU_T1.R2</th>\n",
       "      <th>CRUK0872_SU_T1.R3</th>\n",
       "      <th>CRUK0872_SU_T1.R4</th>\n",
       "    </tr>\n",
       "    <tr>\n",
       "      <th>TRI_NT_CONTEXT</th>\n",
       "      <th></th>\n",
       "      <th></th>\n",
       "      <th></th>\n",
       "      <th></th>\n",
       "      <th></th>\n",
       "      <th></th>\n",
       "      <th></th>\n",
       "      <th></th>\n",
       "      <th></th>\n",
       "      <th></th>\n",
       "      <th></th>\n",
       "      <th></th>\n",
       "      <th></th>\n",
       "      <th></th>\n",
       "      <th></th>\n",
       "      <th></th>\n",
       "      <th></th>\n",
       "      <th></th>\n",
       "      <th></th>\n",
       "      <th></th>\n",
       "      <th></th>\n",
       "    </tr>\n",
       "  </thead>\n",
       "  <tbody>\n",
       "    <tr>\n",
       "      <th>AC&gt;AA</th>\n",
       "      <td>4</td>\n",
       "      <td>4</td>\n",
       "      <td>4</td>\n",
       "      <td>4</td>\n",
       "      <td>4</td>\n",
       "      <td>4</td>\n",
       "      <td>6</td>\n",
       "      <td>6</td>\n",
       "      <td>6</td>\n",
       "      <td>6</td>\n",
       "      <td>...</td>\n",
       "      <td>7</td>\n",
       "      <td>7</td>\n",
       "      <td>7</td>\n",
       "      <td>7</td>\n",
       "      <td>7</td>\n",
       "      <td>9</td>\n",
       "      <td>9</td>\n",
       "      <td>9</td>\n",
       "      <td>9</td>\n",
       "      <td>9</td>\n",
       "    </tr>\n",
       "    <tr>\n",
       "      <th>AC&gt;AC</th>\n",
       "      <td>5</td>\n",
       "      <td>5</td>\n",
       "      <td>5</td>\n",
       "      <td>5</td>\n",
       "      <td>5</td>\n",
       "      <td>5</td>\n",
       "      <td>3</td>\n",
       "      <td>3</td>\n",
       "      <td>3</td>\n",
       "      <td>3</td>\n",
       "      <td>...</td>\n",
       "      <td>15</td>\n",
       "      <td>15</td>\n",
       "      <td>15</td>\n",
       "      <td>15</td>\n",
       "      <td>15</td>\n",
       "      <td>5</td>\n",
       "      <td>5</td>\n",
       "      <td>5</td>\n",
       "      <td>5</td>\n",
       "      <td>5</td>\n",
       "    </tr>\n",
       "    <tr>\n",
       "      <th>AC&gt;AG</th>\n",
       "      <td>3</td>\n",
       "      <td>3</td>\n",
       "      <td>3</td>\n",
       "      <td>3</td>\n",
       "      <td>3</td>\n",
       "      <td>3</td>\n",
       "      <td>5</td>\n",
       "      <td>5</td>\n",
       "      <td>5</td>\n",
       "      <td>5</td>\n",
       "      <td>...</td>\n",
       "      <td>9</td>\n",
       "      <td>9</td>\n",
       "      <td>9</td>\n",
       "      <td>9</td>\n",
       "      <td>9</td>\n",
       "      <td>9</td>\n",
       "      <td>9</td>\n",
       "      <td>9</td>\n",
       "      <td>9</td>\n",
       "      <td>9</td>\n",
       "    </tr>\n",
       "    <tr>\n",
       "      <th>AC&gt;AT</th>\n",
       "      <td>3</td>\n",
       "      <td>3</td>\n",
       "      <td>3</td>\n",
       "      <td>3</td>\n",
       "      <td>3</td>\n",
       "      <td>3</td>\n",
       "      <td>6</td>\n",
       "      <td>6</td>\n",
       "      <td>6</td>\n",
       "      <td>6</td>\n",
       "      <td>...</td>\n",
       "      <td>6</td>\n",
       "      <td>6</td>\n",
       "      <td>6</td>\n",
       "      <td>6</td>\n",
       "      <td>6</td>\n",
       "      <td>13</td>\n",
       "      <td>13</td>\n",
       "      <td>13</td>\n",
       "      <td>13</td>\n",
       "      <td>13</td>\n",
       "    </tr>\n",
       "    <tr>\n",
       "      <th>AC&gt;GA</th>\n",
       "      <td>11</td>\n",
       "      <td>11</td>\n",
       "      <td>11</td>\n",
       "      <td>11</td>\n",
       "      <td>11</td>\n",
       "      <td>11</td>\n",
       "      <td>7</td>\n",
       "      <td>7</td>\n",
       "      <td>7</td>\n",
       "      <td>7</td>\n",
       "      <td>...</td>\n",
       "      <td>7</td>\n",
       "      <td>7</td>\n",
       "      <td>7</td>\n",
       "      <td>7</td>\n",
       "      <td>7</td>\n",
       "      <td>8</td>\n",
       "      <td>8</td>\n",
       "      <td>8</td>\n",
       "      <td>8</td>\n",
       "      <td>8</td>\n",
       "    </tr>\n",
       "    <tr>\n",
       "      <th>...</th>\n",
       "      <td>...</td>\n",
       "      <td>...</td>\n",
       "      <td>...</td>\n",
       "      <td>...</td>\n",
       "      <td>...</td>\n",
       "      <td>...</td>\n",
       "      <td>...</td>\n",
       "      <td>...</td>\n",
       "      <td>...</td>\n",
       "      <td>...</td>\n",
       "      <td>...</td>\n",
       "      <td>...</td>\n",
       "      <td>...</td>\n",
       "      <td>...</td>\n",
       "      <td>...</td>\n",
       "      <td>...</td>\n",
       "      <td>...</td>\n",
       "      <td>...</td>\n",
       "      <td>...</td>\n",
       "      <td>...</td>\n",
       "      <td>...</td>\n",
       "    </tr>\n",
       "    <tr>\n",
       "      <th>TT&gt;CT</th>\n",
       "      <td>7</td>\n",
       "      <td>7</td>\n",
       "      <td>7</td>\n",
       "      <td>7</td>\n",
       "      <td>7</td>\n",
       "      <td>7</td>\n",
       "      <td>5</td>\n",
       "      <td>5</td>\n",
       "      <td>5</td>\n",
       "      <td>5</td>\n",
       "      <td>...</td>\n",
       "      <td>5</td>\n",
       "      <td>5</td>\n",
       "      <td>5</td>\n",
       "      <td>5</td>\n",
       "      <td>5</td>\n",
       "      <td>7</td>\n",
       "      <td>7</td>\n",
       "      <td>7</td>\n",
       "      <td>7</td>\n",
       "      <td>7</td>\n",
       "    </tr>\n",
       "    <tr>\n",
       "      <th>TT&gt;GA</th>\n",
       "      <td>0</td>\n",
       "      <td>0</td>\n",
       "      <td>0</td>\n",
       "      <td>0</td>\n",
       "      <td>0</td>\n",
       "      <td>0</td>\n",
       "      <td>2</td>\n",
       "      <td>2</td>\n",
       "      <td>2</td>\n",
       "      <td>2</td>\n",
       "      <td>...</td>\n",
       "      <td>1</td>\n",
       "      <td>1</td>\n",
       "      <td>1</td>\n",
       "      <td>1</td>\n",
       "      <td>1</td>\n",
       "      <td>1</td>\n",
       "      <td>1</td>\n",
       "      <td>1</td>\n",
       "      <td>1</td>\n",
       "      <td>1</td>\n",
       "    </tr>\n",
       "    <tr>\n",
       "      <th>TT&gt;GC</th>\n",
       "      <td>1</td>\n",
       "      <td>1</td>\n",
       "      <td>1</td>\n",
       "      <td>1</td>\n",
       "      <td>1</td>\n",
       "      <td>1</td>\n",
       "      <td>0</td>\n",
       "      <td>0</td>\n",
       "      <td>0</td>\n",
       "      <td>0</td>\n",
       "      <td>...</td>\n",
       "      <td>3</td>\n",
       "      <td>3</td>\n",
       "      <td>3</td>\n",
       "      <td>3</td>\n",
       "      <td>3</td>\n",
       "      <td>0</td>\n",
       "      <td>0</td>\n",
       "      <td>0</td>\n",
       "      <td>0</td>\n",
       "      <td>0</td>\n",
       "    </tr>\n",
       "    <tr>\n",
       "      <th>TT&gt;GG</th>\n",
       "      <td>1</td>\n",
       "      <td>1</td>\n",
       "      <td>1</td>\n",
       "      <td>1</td>\n",
       "      <td>1</td>\n",
       "      <td>1</td>\n",
       "      <td>0</td>\n",
       "      <td>0</td>\n",
       "      <td>0</td>\n",
       "      <td>0</td>\n",
       "      <td>...</td>\n",
       "      <td>2</td>\n",
       "      <td>2</td>\n",
       "      <td>2</td>\n",
       "      <td>2</td>\n",
       "      <td>2</td>\n",
       "      <td>0</td>\n",
       "      <td>0</td>\n",
       "      <td>0</td>\n",
       "      <td>0</td>\n",
       "      <td>0</td>\n",
       "    </tr>\n",
       "    <tr>\n",
       "      <th>TT&gt;GT</th>\n",
       "      <td>4</td>\n",
       "      <td>4</td>\n",
       "      <td>4</td>\n",
       "      <td>4</td>\n",
       "      <td>4</td>\n",
       "      <td>4</td>\n",
       "      <td>0</td>\n",
       "      <td>0</td>\n",
       "      <td>0</td>\n",
       "      <td>0</td>\n",
       "      <td>...</td>\n",
       "      <td>2</td>\n",
       "      <td>2</td>\n",
       "      <td>2</td>\n",
       "      <td>2</td>\n",
       "      <td>2</td>\n",
       "      <td>0</td>\n",
       "      <td>0</td>\n",
       "      <td>0</td>\n",
       "      <td>0</td>\n",
       "      <td>0</td>\n",
       "    </tr>\n",
       "  </tbody>\n",
       "</table>\n",
       "<p>96 rows × 690 columns</p>\n",
       "</div>"
      ],
      "text/plain": [
       "SAMPLE          CRUK0003_SU_FLN1  CRUK0003_SU_T1.R1  CRUK0003_SU_T1.R2  \\\n",
       "TRI_NT_CONTEXT                                                           \n",
       "AC>AA                          4                  4                  4   \n",
       "AC>AC                          5                  5                  5   \n",
       "AC>AG                          3                  3                  3   \n",
       "AC>AT                          3                  3                  3   \n",
       "AC>GA                         11                 11                 11   \n",
       "...                          ...                ...                ...   \n",
       "TT>CT                          7                  7                  7   \n",
       "TT>GA                          0                  0                  0   \n",
       "TT>GC                          1                  1                  1   \n",
       "TT>GG                          1                  1                  1   \n",
       "TT>GT                          4                  4                  4   \n",
       "\n",
       "SAMPLE          CRUK0003_SU_T1.R3  CRUK0003_SU_T1.R4  CRUK0003_SU_T1.R6  \\\n",
       "TRI_NT_CONTEXT                                                            \n",
       "AC>AA                           4                  4                  4   \n",
       "AC>AC                           5                  5                  5   \n",
       "AC>AG                           3                  3                  3   \n",
       "AC>AT                           3                  3                  3   \n",
       "AC>GA                          11                 11                 11   \n",
       "...                           ...                ...                ...   \n",
       "TT>CT                           7                  7                  7   \n",
       "TT>GA                           0                  0                  0   \n",
       "TT>GC                           1                  1                  1   \n",
       "TT>GG                           1                  1                  1   \n",
       "TT>GT                           4                  4                  4   \n",
       "\n",
       "SAMPLE          CRUK0004_BP_LN1  CRUK0004_SU_T1.R1  CRUK0004_SU_T1.R2  \\\n",
       "TRI_NT_CONTEXT                                                          \n",
       "AC>AA                         6                  6                  6   \n",
       "AC>AC                         3                  3                  3   \n",
       "AC>AG                         5                  5                  5   \n",
       "AC>AT                         6                  6                  6   \n",
       "AC>GA                         7                  7                  7   \n",
       "...                         ...                ...                ...   \n",
       "TT>CT                         5                  5                  5   \n",
       "TT>GA                         2                  2                  2   \n",
       "TT>GC                         0                  0                  0   \n",
       "TT>GG                         0                  0                  0   \n",
       "TT>GT                         0                  0                  0   \n",
       "\n",
       "SAMPLE          CRUK0004_SU_T1.R3  ...  CRUK0817_SU_T1.R1  CRUK0817_SU_T1.R2  \\\n",
       "TRI_NT_CONTEXT                     ...                                         \n",
       "AC>AA                           6  ...                  7                  7   \n",
       "AC>AC                           3  ...                 15                 15   \n",
       "AC>AG                           5  ...                  9                  9   \n",
       "AC>AT                           6  ...                  6                  6   \n",
       "AC>GA                           7  ...                  7                  7   \n",
       "...                           ...  ...                ...                ...   \n",
       "TT>CT                           5  ...                  5                  5   \n",
       "TT>GA                           2  ...                  1                  1   \n",
       "TT>GC                           0  ...                  3                  3   \n",
       "TT>GG                           0  ...                  2                  2   \n",
       "TT>GT                           0  ...                  2                  2   \n",
       "\n",
       "SAMPLE          CRUK0817_SU_T1.R3  CRUK0817_SU_T1.R4  CRUK0817_SU_T1.R5  \\\n",
       "TRI_NT_CONTEXT                                                            \n",
       "AC>AA                           7                  7                  7   \n",
       "AC>AC                          15                 15                 15   \n",
       "AC>AG                           9                  9                  9   \n",
       "AC>AT                           6                  6                  6   \n",
       "AC>GA                           7                  7                  7   \n",
       "...                           ...                ...                ...   \n",
       "TT>CT                           5                  5                  5   \n",
       "TT>GA                           1                  1                  1   \n",
       "TT>GC                           3                  3                  3   \n",
       "TT>GG                           2                  2                  2   \n",
       "TT>GT                           2                  2                  2   \n",
       "\n",
       "SAMPLE          CRUK0872_SU_FLN1  CRUK0872_SU_T1.R1  CRUK0872_SU_T1.R2  \\\n",
       "TRI_NT_CONTEXT                                                           \n",
       "AC>AA                          9                  9                  9   \n",
       "AC>AC                          5                  5                  5   \n",
       "AC>AG                          9                  9                  9   \n",
       "AC>AT                         13                 13                 13   \n",
       "AC>GA                          8                  8                  8   \n",
       "...                          ...                ...                ...   \n",
       "TT>CT                          7                  7                  7   \n",
       "TT>GA                          1                  1                  1   \n",
       "TT>GC                          0                  0                  0   \n",
       "TT>GG                          0                  0                  0   \n",
       "TT>GT                          0                  0                  0   \n",
       "\n",
       "SAMPLE          CRUK0872_SU_T1.R3  CRUK0872_SU_T1.R4  \n",
       "TRI_NT_CONTEXT                                        \n",
       "AC>AA                           9                  9  \n",
       "AC>AC                           5                  5  \n",
       "AC>AG                           9                  9  \n",
       "AC>AT                          13                 13  \n",
       "AC>GA                           8                  8  \n",
       "...                           ...                ...  \n",
       "TT>CT                           7                  7  \n",
       "TT>GA                           1                  1  \n",
       "TT>GC                           0                  0  \n",
       "TT>GG                           0                  0  \n",
       "TT>GT                           0                  0  \n",
       "\n",
       "[96 rows x 690 columns]"
      ]
     },
     "execution_count": 16,
     "metadata": {},
     "output_type": "execute_result"
    }
   ],
   "source": [
    "count_matrix.index = count_matrix.index.map(lambda x: re.sub(r'^(.{2})', r'\\1>', x))\n",
    "count_matrix"
   ]
  },
  {
   "cell_type": "code",
   "execution_count": 17,
   "metadata": {},
   "outputs": [
    {
     "name": "stdout",
     "output_type": "stream",
     "text": [
      "Assigning COSMIC sigs or Signature Database ...... \n"
     ]
    },
    {
     "name": "stdout",
     "output_type": "stream",
     "text": [
      "|████████████████████████████████████████| 690/690 [100%] in 5:14.1 (2.20/s) \n",
      "\n",
      "\n",
      " \n",
      "Your Job Is Successfully Completed! Thank You For Using SigProfilerAssignment.\n",
      " \n"
     ]
    }
   ],
   "source": [
    "Analyze.cosmic_fit(samples=count_matrix,\n",
    "                   output=\"tracerx_mm\",\n",
    "                   input_type=\"matrix\",\n",
    "                   genome_build=\"GRCh37\",\n",
    "                   cosmic_version=3.3)"
   ]
  },
  {
   "cell_type": "markdown",
   "metadata": {},
   "source": [
    "#### MSK IMPACT"
   ]
  },
  {
   "cell_type": "code",
   "execution_count": 25,
   "metadata": {},
   "outputs": [],
   "source": [
    "count_matrix_impact = pd.crosstab(df_impact_nsclc['mutation'], df_impact_nsclc['id'])\n",
    "count_matrix_impact.index = count_matrix_impact.index.map(lambda x: re.sub(r'^(.{2})', r'\\1>', x))"
   ]
  },
  {
   "cell_type": "code",
   "execution_count": 27,
   "metadata": {},
   "outputs": [
    {
     "name": "stdout",
     "output_type": "stream",
     "text": [
      "Assigning COSMIC sigs or Signature Database ...... \n"
     ]
    },
    {
     "name": "stdout",
     "output_type": "stream",
     "text": [
      "|████████████████████████████████████████| 9379/9379 [100%] in 49:53.9 (3.13/s) \n",
      "\n",
      "\n",
      " \n",
      "Your Job Is Successfully Completed! Thank You For Using SigProfilerAssignment.\n",
      " \n"
     ]
    }
   ],
   "source": [
    "Analyze.cosmic_fit(samples=count_matrix_impact,\n",
    "                   output=\"impact_nsclc_mm\",\n",
    "                   input_type=\"matrix\",\n",
    "                   genome_build=\"GRCh37\",\n",
    "                   cosmic_version=3.3)"
   ]
  },
  {
   "cell_type": "markdown",
   "metadata": {},
   "source": [
    "this took an hour..."
   ]
  },
  {
   "cell_type": "markdown",
   "metadata": {},
   "source": [
    "### de novo extraction of signatures"
   ]
  },
  {
   "cell_type": "markdown",
   "metadata": {},
   "source": []
  },
  {
   "cell_type": "markdown",
   "metadata": {},
   "source": [
    "Hi Feiayng,\n",
    "\n",
    "i may not know how to code but at least I can write you a cute lil message:\n",
    "You're doing amazing and i love you <3\n",
    "\n",
    "Hehe code code code \n"
   ]
  }
 ],
 "metadata": {
  "kernelspec": {
   "display_name": "Python [conda env:sigtensor]",
   "language": "python",
   "name": "conda-env-sigtensor-py"
  },
  "language_info": {
   "codemirror_mode": {
    "name": "ipython",
    "version": 3
   },
   "file_extension": ".py",
   "mimetype": "text/x-python",
   "name": "python",
   "nbconvert_exporter": "python",
   "pygments_lexer": "ipython3",
   "version": "3.8.18"
  },
  "orig_nbformat": 4
 },
 "nbformat": 4,
 "nbformat_minor": 2
}
